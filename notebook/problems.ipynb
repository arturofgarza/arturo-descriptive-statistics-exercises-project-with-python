{
    "cells": [
        {
            "cell_type": "markdown",
            "id": "ac622319",
            "metadata": {},
            "source": [
                "# Descriptive statistics problems"
            ]
        },
        {
            "cell_type": "markdown",
            "id": "5e0ab0d5",
            "metadata": {},
            "source": [
                "### Exercise 1\n",
                "\n",
                "We will use NumPy to obtain information to describe statistically.\n",
                "\n",
                "- Generate an array of 100 elements following a normal distribution.\n",
                "- Generate an array of 100 elements following a chi-square distribution with 3 degrees of freedom.\n",
                "- Calculate the main metrics and statistical measures that best describe the two vectors."
            ]
        },
        {
            "cell_type": "code",
            "execution_count": 33,
            "id": "34720ab6",
            "metadata": {},
            "outputs": [
                {
                    "name": "stdout",
                    "output_type": "stream",
                    "text": [
                        "media de x 50.00000000000001\n",
                        "media de x2 3.019534370519632\n",
                        "la mediana de x 50.0\n",
                        "la mediana de x 2.442550523733404\n",
                        "desviacion de x 29.45075446869757\n",
                        "desviacion de x2 2.4706541333665593\n",
                        "varianza de x 867.34693877551\n",
                        "varianza de x2 6.104131846721264\n"
                    ]
                },
                {
                    "ename": "AttributeError",
                    "evalue": "'str' object has no attribute 'moda'",
                    "output_type": "error",
                    "traceback": [
                        "\u001b[0;31m---------------------------------------------------------------------------\u001b[0m",
                        "\u001b[0;31mAttributeError\u001b[0m                            Traceback (most recent call last)",
                        "Cell \u001b[0;32mIn[33], line 45\u001b[0m\n\u001b[1;32m     42\u001b[0m \u001b[38;5;28mprint\u001b[39m(\u001b[38;5;124mf\u001b[39m\u001b[38;5;124m'\u001b[39m\u001b[38;5;124mvarianza de x\u001b[39m\u001b[38;5;124m'\u001b[39m,variance(x))\n\u001b[1;32m     43\u001b[0m \u001b[38;5;28mprint\u001b[39m(\u001b[38;5;124mf\u001b[39m\u001b[38;5;124m'\u001b[39m\u001b[38;5;124mvarianza de x2\u001b[39m\u001b[38;5;124m'\u001b[39m,variance(x2))\n\u001b[0;32m---> 45\u001b[0m \u001b[38;5;28mprint\u001b[39m(\u001b[38;5;124;43mf\u001b[39;49m\u001b[38;5;124;43m'\u001b[39;49m\u001b[38;5;124;43mmoda de x\u001b[39;49m\u001b[38;5;124;43m'\u001b[39;49m\u001b[38;5;241;43m.\u001b[39;49m\u001b[43m \u001b[49m\u001b[43mmoda\u001b[49m(x))\n",
                        "\u001b[0;31mAttributeError\u001b[0m: 'str' object has no attribute 'moda'"
                    ]
                }
            ],
            "source": [
                "# TODO\n",
                "import numpy as np\n",
                "x= np.linspace(0,100)\n",
                "x2=np.random.chisquare(df=3,size=100) #este lo investigue en numpy\n",
                "\n",
                "def media(x):\n",
                "    acum=0\n",
                "    for i in x:\n",
                "        acum=acum+i\n",
                "    return acum/len(x)\n",
                "\n",
                "def variance(x):\n",
                "    mean=media(x)\n",
                "    dato=0\n",
                "    for i in x:\n",
                "        dato+=(i-mean)**2\n",
                "    dato/= len(x)\n",
                "    return dato\n",
                "    \n",
                "\n",
                "def desviacion(x):\n",
                "    mean=media(x)\n",
                "    varianza=0\n",
                "    for i in x:\n",
                "        varianza+=(i-mean)**2\n",
                "    varianza/= len(x)\n",
                "    desviacionestandar=varianza**0.5\n",
                "    return desviacionestandar\n",
                "\n",
                "mediana=np.median(x)\n",
                "mediana2=np.median(x2)\n",
                "\n",
                "print(f\"media de x\",media(x))\n",
                "print(f\"media de x2\",media(x2))\n",
                "\n",
                "print(f'la mediana de x',mediana)\n",
                "print(f'la mediana de x',mediana2)\n",
                "\n",
                "print(f\"desviacion de x\",desviacion(x))\n",
                "print(f\"desviacion de x2\",desviacion(x2))\n",
                "\n",
                "print(f'varianza de x',variance(x))\n",
                "print(f'varianza de x2',variance(x2))"
            ]
        },
        {
            "cell_type": "markdown",
            "id": "46c70c3d",
            "metadata": {},
            "source": [
                "### Exercise 2\n",
                "\n",
                "Write a Python program to calculate the standard deviation of the following data:\n",
                "\n",
                "```py\n",
                "data = [4, 2, 5, 8, 6]\n",
                "```"
            ]
        },
        {
            "cell_type": "code",
            "execution_count": 14,
            "id": "d590308e",
            "metadata": {},
            "outputs": [
                {
                    "name": "stdout",
                    "output_type": "stream",
                    "text": [
                        "5.0\n",
                        "2.0\n"
                    ]
                }
            ],
            "source": [
                "# TODO\n",
                "\n",
                "data=[4,2,5,8,6]\n",
                "\n",
                "def media(x):\n",
                "    acum=0\n",
                "    for i in x:\n",
                "        acum=acum+i\n",
                "    return acum/len(x)\n",
                "\n",
                "media(data)\n",
                "\n",
                "def desviacion(x):\n",
                "    mean=media(x)\n",
                "    varianza=0\n",
                "    for i in x:\n",
                "        varianza+=(i-mean)**2\n",
                "    varianza/= len(x)\n",
                "    desviacionestandar=varianza**0.5\n",
                "    return desviacionestandar\n",
                "\n",
                "desviacion(data)\n",
                "\n",
                "print(media(data))\n",
                "print(desviacion(data)) #me sale 2.23 en cuaderno\n",
                "\n"
            ]
        }
    ],
    "metadata": {
        "interpreter": {
            "hash": "9248718ffe6ce6938b217e69dbcc175ea21f4c6b28a317e96c05334edae734bb"
        },
        "kernelspec": {
            "display_name": "Python 3.9.12 ('ML-BOOTCAMP')",
            "language": "python",
            "name": "python3"
        },
        "language_info": {
            "codemirror_mode": {
                "name": "ipython",
                "version": 3
            },
            "file_extension": ".py",
            "mimetype": "text/x-python",
            "name": "python",
            "nbconvert_exporter": "python",
            "pygments_lexer": "ipython3",
            "version": "3.11.4"
        }
    },
    "nbformat": 4,
    "nbformat_minor": 5
}
